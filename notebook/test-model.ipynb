{
 "cells": [
  {
   "cell_type": "code",
   "execution_count": 1,
   "id": "67861a06",
   "metadata": {},
   "outputs": [
    {
     "name": "stderr",
     "output_type": "stream",
     "text": [
      "<>:9: SyntaxWarning: invalid escape sequence '\\m'\n",
      "<>:9: SyntaxWarning: invalid escape sequence '\\m'\n",
      "C:\\Users\\bania\\AppData\\Local\\Temp\\ipykernel_14132\\1763601055.py:9: SyntaxWarning: invalid escape sequence '\\m'\n",
      "  MODEL_FILENAME = 'model\\model_LR_0.001_BS_32.h5'\n",
      "WARNING:absl:Compiled the loaded model, but the compiled metrics have yet to be built. `model.compile_metrics` will be empty until you train or evaluate the model.\n"
     ]
    },
    {
     "name": "stdout",
     "output_type": "stream",
     "text": [
      "✅ Model 'model\\model_LR_0.001_BS_32.h5' berhasil dimuat!\n"
     ]
    },
    {
     "data": {
      "text/html": [
       "<pre style=\"white-space:pre;overflow-x:auto;line-height:normal;font-family:Menlo,'DejaVu Sans Mono',consolas,'Courier New',monospace\"><span style=\"font-weight: bold\">Model: \"sequential_9\"</span>\n",
       "</pre>\n"
      ],
      "text/plain": [
       "\u001b[1mModel: \"sequential_9\"\u001b[0m\n"
      ]
     },
     "metadata": {},
     "output_type": "display_data"
    },
    {
     "data": {
      "text/html": [
       "<pre style=\"white-space:pre;overflow-x:auto;line-height:normal;font-family:Menlo,'DejaVu Sans Mono',consolas,'Courier New',monospace\">┏━━━━━━━━━━━━━━━━━━━━━━━━━━━━━━━━━┳━━━━━━━━━━━━━━━━━━━━━━━━┳━━━━━━━━━━━━━━━┓\n",
       "┃<span style=\"font-weight: bold\"> Layer (type)                    </span>┃<span style=\"font-weight: bold\"> Output Shape           </span>┃<span style=\"font-weight: bold\">       Param # </span>┃\n",
       "┡━━━━━━━━━━━━━━━━━━━━━━━━━━━━━━━━━╇━━━━━━━━━━━━━━━━━━━━━━━━╇━━━━━━━━━━━━━━━┩\n",
       "│ conv1d_18 (<span style=\"color: #0087ff; text-decoration-color: #0087ff\">Conv1D</span>)              │ (<span style=\"color: #00d7ff; text-decoration-color: #00d7ff\">None</span>, <span style=\"color: #00af00; text-decoration-color: #00af00\">28</span>, <span style=\"color: #00af00; text-decoration-color: #00af00\">64</span>)         │           <span style=\"color: #00af00; text-decoration-color: #00af00\">256</span> │\n",
       "├─────────────────────────────────┼────────────────────────┼───────────────┤\n",
       "│ conv1d_19 (<span style=\"color: #0087ff; text-decoration-color: #0087ff\">Conv1D</span>)              │ (<span style=\"color: #00d7ff; text-decoration-color: #00d7ff\">None</span>, <span style=\"color: #00af00; text-decoration-color: #00af00\">26</span>, <span style=\"color: #00af00; text-decoration-color: #00af00\">128</span>)        │        <span style=\"color: #00af00; text-decoration-color: #00af00\">24,704</span> │\n",
       "├─────────────────────────────────┼────────────────────────┼───────────────┤\n",
       "│ max_pooling1d_9 (<span style=\"color: #0087ff; text-decoration-color: #0087ff\">MaxPooling1D</span>)  │ (<span style=\"color: #00d7ff; text-decoration-color: #00d7ff\">None</span>, <span style=\"color: #00af00; text-decoration-color: #00af00\">13</span>, <span style=\"color: #00af00; text-decoration-color: #00af00\">128</span>)        │             <span style=\"color: #00af00; text-decoration-color: #00af00\">0</span> │\n",
       "├─────────────────────────────────┼────────────────────────┼───────────────┤\n",
       "│ dropout_9 (<span style=\"color: #0087ff; text-decoration-color: #0087ff\">Dropout</span>)             │ (<span style=\"color: #00d7ff; text-decoration-color: #00d7ff\">None</span>, <span style=\"color: #00af00; text-decoration-color: #00af00\">13</span>, <span style=\"color: #00af00; text-decoration-color: #00af00\">128</span>)        │             <span style=\"color: #00af00; text-decoration-color: #00af00\">0</span> │\n",
       "├─────────────────────────────────┼────────────────────────┼───────────────┤\n",
       "│ flatten_9 (<span style=\"color: #0087ff; text-decoration-color: #0087ff\">Flatten</span>)             │ (<span style=\"color: #00d7ff; text-decoration-color: #00d7ff\">None</span>, <span style=\"color: #00af00; text-decoration-color: #00af00\">1664</span>)           │             <span style=\"color: #00af00; text-decoration-color: #00af00\">0</span> │\n",
       "├─────────────────────────────────┼────────────────────────┼───────────────┤\n",
       "│ dense_18 (<span style=\"color: #0087ff; text-decoration-color: #0087ff\">Dense</span>)                │ (<span style=\"color: #00d7ff; text-decoration-color: #00d7ff\">None</span>, <span style=\"color: #00af00; text-decoration-color: #00af00\">64</span>)             │       <span style=\"color: #00af00; text-decoration-color: #00af00\">106,560</span> │\n",
       "├─────────────────────────────────┼────────────────────────┼───────────────┤\n",
       "│ dense_19 (<span style=\"color: #0087ff; text-decoration-color: #0087ff\">Dense</span>)                │ (<span style=\"color: #00d7ff; text-decoration-color: #00d7ff\">None</span>, <span style=\"color: #00af00; text-decoration-color: #00af00\">1</span>)              │            <span style=\"color: #00af00; text-decoration-color: #00af00\">65</span> │\n",
       "└─────────────────────────────────┴────────────────────────┴───────────────┘\n",
       "</pre>\n"
      ],
      "text/plain": [
       "┏━━━━━━━━━━━━━━━━━━━━━━━━━━━━━━━━━┳━━━━━━━━━━━━━━━━━━━━━━━━┳━━━━━━━━━━━━━━━┓\n",
       "┃\u001b[1m \u001b[0m\u001b[1mLayer (type)                   \u001b[0m\u001b[1m \u001b[0m┃\u001b[1m \u001b[0m\u001b[1mOutput Shape          \u001b[0m\u001b[1m \u001b[0m┃\u001b[1m \u001b[0m\u001b[1m      Param #\u001b[0m\u001b[1m \u001b[0m┃\n",
       "┡━━━━━━━━━━━━━━━━━━━━━━━━━━━━━━━━━╇━━━━━━━━━━━━━━━━━━━━━━━━╇━━━━━━━━━━━━━━━┩\n",
       "│ conv1d_18 (\u001b[38;5;33mConv1D\u001b[0m)              │ (\u001b[38;5;45mNone\u001b[0m, \u001b[38;5;34m28\u001b[0m, \u001b[38;5;34m64\u001b[0m)         │           \u001b[38;5;34m256\u001b[0m │\n",
       "├─────────────────────────────────┼────────────────────────┼───────────────┤\n",
       "│ conv1d_19 (\u001b[38;5;33mConv1D\u001b[0m)              │ (\u001b[38;5;45mNone\u001b[0m, \u001b[38;5;34m26\u001b[0m, \u001b[38;5;34m128\u001b[0m)        │        \u001b[38;5;34m24,704\u001b[0m │\n",
       "├─────────────────────────────────┼────────────────────────┼───────────────┤\n",
       "│ max_pooling1d_9 (\u001b[38;5;33mMaxPooling1D\u001b[0m)  │ (\u001b[38;5;45mNone\u001b[0m, \u001b[38;5;34m13\u001b[0m, \u001b[38;5;34m128\u001b[0m)        │             \u001b[38;5;34m0\u001b[0m │\n",
       "├─────────────────────────────────┼────────────────────────┼───────────────┤\n",
       "│ dropout_9 (\u001b[38;5;33mDropout\u001b[0m)             │ (\u001b[38;5;45mNone\u001b[0m, \u001b[38;5;34m13\u001b[0m, \u001b[38;5;34m128\u001b[0m)        │             \u001b[38;5;34m0\u001b[0m │\n",
       "├─────────────────────────────────┼────────────────────────┼───────────────┤\n",
       "│ flatten_9 (\u001b[38;5;33mFlatten\u001b[0m)             │ (\u001b[38;5;45mNone\u001b[0m, \u001b[38;5;34m1664\u001b[0m)           │             \u001b[38;5;34m0\u001b[0m │\n",
       "├─────────────────────────────────┼────────────────────────┼───────────────┤\n",
       "│ dense_18 (\u001b[38;5;33mDense\u001b[0m)                │ (\u001b[38;5;45mNone\u001b[0m, \u001b[38;5;34m64\u001b[0m)             │       \u001b[38;5;34m106,560\u001b[0m │\n",
       "├─────────────────────────────────┼────────────────────────┼───────────────┤\n",
       "│ dense_19 (\u001b[38;5;33mDense\u001b[0m)                │ (\u001b[38;5;45mNone\u001b[0m, \u001b[38;5;34m1\u001b[0m)              │            \u001b[38;5;34m65\u001b[0m │\n",
       "└─────────────────────────────────┴────────────────────────┴───────────────┘\n"
      ]
     },
     "metadata": {},
     "output_type": "display_data"
    },
    {
     "data": {
      "text/html": [
       "<pre style=\"white-space:pre;overflow-x:auto;line-height:normal;font-family:Menlo,'DejaVu Sans Mono',consolas,'Courier New',monospace\"><span style=\"font-weight: bold\"> Total params: </span><span style=\"color: #00af00; text-decoration-color: #00af00\">131,587</span> (514.02 KB)\n",
       "</pre>\n"
      ],
      "text/plain": [
       "\u001b[1m Total params: \u001b[0m\u001b[38;5;34m131,587\u001b[0m (514.02 KB)\n"
      ]
     },
     "metadata": {},
     "output_type": "display_data"
    },
    {
     "data": {
      "text/html": [
       "<pre style=\"white-space:pre;overflow-x:auto;line-height:normal;font-family:Menlo,'DejaVu Sans Mono',consolas,'Courier New',monospace\"><span style=\"font-weight: bold\"> Trainable params: </span><span style=\"color: #00af00; text-decoration-color: #00af00\">131,585</span> (514.00 KB)\n",
       "</pre>\n"
      ],
      "text/plain": [
       "\u001b[1m Trainable params: \u001b[0m\u001b[38;5;34m131,585\u001b[0m (514.00 KB)\n"
      ]
     },
     "metadata": {},
     "output_type": "display_data"
    },
    {
     "data": {
      "text/html": [
       "<pre style=\"white-space:pre;overflow-x:auto;line-height:normal;font-family:Menlo,'DejaVu Sans Mono',consolas,'Courier New',monospace\"><span style=\"font-weight: bold\"> Non-trainable params: </span><span style=\"color: #00af00; text-decoration-color: #00af00\">0</span> (0.00 B)\n",
       "</pre>\n"
      ],
      "text/plain": [
       "\u001b[1m Non-trainable params: \u001b[0m\u001b[38;5;34m0\u001b[0m (0.00 B)\n"
      ]
     },
     "metadata": {},
     "output_type": "display_data"
    },
    {
     "data": {
      "text/html": [
       "<pre style=\"white-space:pre;overflow-x:auto;line-height:normal;font-family:Menlo,'DejaVu Sans Mono',consolas,'Courier New',monospace\"><span style=\"font-weight: bold\"> Optimizer params: </span><span style=\"color: #00af00; text-decoration-color: #00af00\">2</span> (12.00 B)\n",
       "</pre>\n"
      ],
      "text/plain": [
       "\u001b[1m Optimizer params: \u001b[0m\u001b[38;5;34m2\u001b[0m (12.00 B)\n"
      ]
     },
     "metadata": {},
     "output_type": "display_data"
    },
    {
     "name": "stdout",
     "output_type": "stream",
     "text": [
      "\n",
      "🔄 Memvalidasi input Anda...\n",
      "✅ Input valid dan siap untuk prediksi.\n",
      "🧠 Melakukan prediksi...\n",
      "\u001b[1m1/1\u001b[0m \u001b[32m━━━━━━━━━━━━━━━━━━━━\u001b[0m\u001b[37m\u001b[0m \u001b[1m0s\u001b[0m 379ms/step\n",
      "\n",
      "========================================\n",
      "          HASIL PREDIKSI AKHIR\n",
      "========================================\n",
      "Input Numerik Anda: \n",
      "[2, 1, 2, 0, 0, 2, 1, 1, 1, 0, 0, 1, 0, 0, 0, 0, 0, 3, 1, 1, 1, 1, 0, 0, 0, 0, 0, 0, 1, 0]\n",
      "\n",
      "Probabilitas Depresi dari Model: 0.9446 (94.46%)\n",
      "Kelas Prediksi (0=Tidak, 1=Ya): 1\n",
      "----------------------------------------\n",
      "Kesimpulan: Berdasarkan input, kondisi diprediksi sebagai **Depresi**.\n",
      "========================================\n",
      "\n",
      "Catatan: Hasil ini murni berdasarkan model dan tidak menggantikan diagnosis profesional.\n"
     ]
    }
   ],
   "source": [
    "import tensorflow as tf\n",
    "import numpy as np\n",
    "import os\n",
    "\n",
    "# ==============================================================================\n",
    "# Langkah 1: Tentukan Nama File Model Anda\n",
    "# Ganti 'model_depresi.h5' dengan nama file .h5 Anda yang sebenarnya.\n",
    "# ==============================================================================\n",
    "MODEL_FILENAME = 'model\\model_LR_0.001_BS_32.h5'\n",
    "\n",
    "# ==============================================================================\n",
    "# Langkah 2: Muat Model .h5 Anda\n",
    "# ==============================================================================\n",
    "try:\n",
    "    if not os.path.exists(MODEL_FILENAME):\n",
    "        raise FileNotFoundError(f\"Error: File model '{MODEL_FILENAME}' tidak ditemukan. Pastikan file tersebut berada di folder yang sama dengan skrip ini.\")\n",
    "    \n",
    "    model = tf.keras.models.load_model(MODEL_FILENAME)\n",
    "    print(f\"✅ Model '{MODEL_FILENAME}' berhasil dimuat!\")\n",
    "    model.summary()\n",
    "except Exception as e:\n",
    "    print(f\"❌ Error saat memuat model: {e}\")\n",
    "    exit()\n",
    "\n",
    "# ==============================================================================\n",
    "# Langkah 3: Urutan Fitur (Sebagai Referensi)\n",
    "# Urutan ini PENTING untuk memastikan setiap angka sesuai dengan fiturnya.\n",
    "# ==============================================================================\n",
    "feature_order = [\n",
    "    'AGERNG', 'GENDER', 'EDU', 'PROF', 'MARSTS', 'RESDPL', 'LIVWTH', \n",
    "    'ENVSAT', 'POSSAT', 'FINSTR', 'DEBT', 'PHYEX', 'SMOKE', 'DRINK', \n",
    "    'ILLNESS', 'PREMED', 'EATDIS', 'AVGSLP', 'INSOM', 'TSSN', \n",
    "    'WRKPRE', 'ANXI', 'DEPRI', 'ABUSED', 'CHEAT', 'THREAT', 'SUICIDE', \n",
    "    'INFER', 'CONFLICT', 'LOST'\n",
    "]\n",
    "EXPECTED_FEATURE_COUNT = len(feature_order)\n",
    "\n",
    "# ==============================================================================\n",
    "# Langkah 4: Masukkan Data Numerik Anda di Sini\n",
    "# ==============================================================================\n",
    "\n",
    "# --- PANDUAN NILAI INPUT ---\n",
    "# Gunakan panduan ini untuk memilih nilai yang benar untuk setiap fitur.\n",
    "# 'AGERNG': 0:'16-20', 1:'21-25', 2:'26-30', 3:'31-35', 4:'36-40', 5:'41-45', 6:'46-50', 7:'51-55', 8:'56-60', 9:'61+'\n",
    "# 'GENDER': 0:'Male', 1:'Female'\n",
    "# 'EDU':    0:'SSC', 1:'HSC', 2:'Graduate', 3:'Post Graduate'\n",
    "# 'PROF':   0:'Student', 1:'Service holder (Private)', 2:'Service holder (Government)', 3:'Businessman', 4:'Unemployed', 5:'Other'\n",
    "# 'MARSTS': 0:'Unmarried', 1:'Married', 2:'Divorced'\n",
    "# 'RESDPL': 0:'Village', 1:'Town', 2:'City'\n",
    "# 'LIVWTH': 0:'Without Family', 1:'With Family'\n",
    "# 'PHYEX':  0:'Never', 1:'Sometimes', 2:'Regularly'\n",
    "# 'AVGSLP': 0:'Below 5 h', 1:'5 h', 2:'6 h', 3:'7 h', 4:'8 h', 5:'More than 8 h'\n",
    "# 'TSSN':   0:'Less than 2 h', 1:'2-4 h a day', 2:'5-7 h a day', 3:'8-10 h a day', 4:'More than 10 h a day'\n",
    "# 'WRKPRE': 0:'Severe', 1:'Moderate', 2:'Mild', 3:'No Pressure'\n",
    "#\n",
    "# Untuk fitur 'Yes'/'No' berikut, gunakan: 0:'No', 1:'Yes'\n",
    "# 'ENVSAT', 'POSSAT', 'FINSTR', 'DEBT', 'SMOKE', 'DRINK', 'ILLNESS', 'PREMED', \n",
    "# 'EATDIS', 'INSOM', 'ANXI', 'DEPRI', 'ABUSED', 'CHEAT', 'THREAT', \n",
    "# 'SUICIDE', 'INFER', 'CONFLICT', 'LOST'\n",
    "# --------------------------------\n",
    "\n",
    "# Ganti nilai di sebelah kiri komentar (#) sesuai dengan data Anda.\n",
    "# Pastikan ada 30 baris/angka di dalam list ini.\n",
    "numerical_input_data = [\n",
    "    2,  # AGERNG: Rentang Usia\n",
    "    1,  # GENDER: Jenis Kelamin\n",
    "    2,  # EDU: Pendidikan\n",
    "    0,  # PROF: Profesi\n",
    "    0,  # MARSTS: Status Pernikahan\n",
    "    2,  # RESDPL: Tempat Tinggal\n",
    "    1,  # LIVWTH: Tinggal Dengan\n",
    "    1,  # ENVSAT: Kepuasan Lingkungan (0/1)\n",
    "    1,  # POSSAT: Kepuasan Posisi (0/1)\n",
    "    0,  # FINSTR: Kesulitan Keuangan (0/1)\n",
    "    0,  # DEBT: Hutang (0/1)\n",
    "    1,  # PHYEX: Olahraga Fisik\n",
    "    0,  # SMOKE: Merokok (0/1)\n",
    "    0,  # DRINK: Minum Alkohol (0/1)\n",
    "    0,  # ILLNESS: Penyakit (0/1)\n",
    "    0,  # PREMED: Pengobatan Sebelumnya (0/1)\n",
    "    0,  # EATDIS: Gangguan Makan (0/1)\n",
    "    3,  # AVGSLP: Rata-rata Tidur\n",
    "    1,  # INSOM: Insomnia (0/1)\n",
    "    1,  # TSSN: Waktu di Media Sosial\n",
    "    1,  # WRKPRE: Tekanan Kerja\n",
    "    1,  # ANXI: Kecemasan (0/1)\n",
    "    0,  # DEPRI: Depresi (0/1)\n",
    "    0,  # ABUSED: Pernah Dilecehkan (0/1)\n",
    "    0,  # CHEAT: Pernah Dikhianati (0/1)\n",
    "    0,  # THREAT: Pernah Diancam (0/1)\n",
    "    0,  # SUICIDE: Bunuh Diri (0/1)\n",
    "    0,  # INFER: Perasaan Inferior (0/1)\n",
    "    1,  # CONFLICT: Konflik dengan Seseorang (0/1)\n",
    "    0,  # LOST: Kehilangan Seseorang (0/1)\n",
    "]\n",
    "\n",
    "# ==============================================================================\n",
    "# Langkah 5: Validasi dan Persiapan Input\n",
    "# ==============================================================================\n",
    "print(\"\\n🔄 Memvalidasi input Anda...\")\n",
    "\n",
    "if len(numerical_input_data) != EXPECTED_FEATURE_COUNT:\n",
    "    print(f\"❌ Error: Input Anda memiliki {len(numerical_input_data)} fitur, tetapi model mengharapkan {EXPECTED_FEATURE_COUNT} fitur.\")\n",
    "    print(\"Mohon periksa kembali `numerical_input_data`.\")\n",
    "    exit()\n",
    "\n",
    "input_array = np.array(numerical_input_data).reshape(1, -1)\n",
    "print(\"✅ Input valid dan siap untuk prediksi.\")\n",
    "\n",
    "# ==============================================================================\n",
    "# Langkah 6: Lakukan Prediksi\n",
    "# ==============================================================================\n",
    "print(\"🧠 Melakukan prediksi...\")\n",
    "prediction = model.predict(input_array)\n",
    "prediction_probability = prediction[0][0]\n",
    "predicted_class = 1 if prediction_probability > 0.5 else 0\n",
    "\n",
    "# ==============================================================================\n",
    "# Langkah 7: Tampilkan Hasil Prediksi\n",
    "# ==============================================================================\n",
    "result_text = \"Depresi\" if predicted_class == 1 else \"Tidak Depresi\"\n",
    "\n",
    "print(\"\\n\" + \"=\"*40)\n",
    "print(\"          HASIL PREDIKSI AKHIR\")\n",
    "print(\"=\"*40)\n",
    "print(f\"Input Numerik Anda: \\n{numerical_input_data}\")\n",
    "print(f\"\\nProbabilitas Depresi dari Model: {prediction_probability:.4f} ({prediction_probability*100:.2f}%)\")\n",
    "print(f\"Kelas Prediksi (0=Tidak, 1=Ya): {predicted_class}\")\n",
    "print(\"-\" * 40)\n",
    "print(f\"Kesimpulan: Berdasarkan input, kondisi diprediksi sebagai **{result_text}**.\")\n",
    "print(\"=\"*40)\n",
    "print(\"\\nCatatan: Hasil ini murni berdasarkan model dan tidak menggantikan diagnosis profesional.\")\n"
   ]
  },
  {
   "cell_type": "code",
   "execution_count": 46,
   "id": "98e1112f",
   "metadata": {},
   "outputs": [
    {
     "name": "stdout",
     "output_type": "stream",
     "text": [
      "Epoch 1/50\n",
      "\u001b[1m 9/14\u001b[0m \u001b[32m━━━━━━━━━━━━\u001b[0m\u001b[37m━━━━━━━━\u001b[0m \u001b[1m0s\u001b[0m 7ms/step - accuracy: 0.5945 - loss: 0.6754"
     ]
    },
    {
     "name": "stderr",
     "output_type": "stream",
     "text": [
      "WARNING:absl:You are saving your model as an HDF5 file via `model.save()` or `keras.saving.save_model(model)`. This file format is considered legacy. We recommend using instead the native Keras format, e.g. `model.save('my_model.keras')` or `keras.saving.save_model(model, 'my_model.keras')`. \n"
     ]
    },
    {
     "name": "stdout",
     "output_type": "stream",
     "text": [
      "\u001b[1m14/14\u001b[0m \u001b[32m━━━━━━━━━━━━━━━━━━━━\u001b[0m\u001b[37m\u001b[0m \u001b[1m2s\u001b[0m 36ms/step - accuracy: 0.6553 - loss: 0.6377 - val_accuracy: 0.7802 - val_loss: 0.4508\n",
      "Epoch 2/50\n",
      "\u001b[1m10/14\u001b[0m \u001b[32m━━━━━━━━━━━━━━\u001b[0m\u001b[37m━━━━━━\u001b[0m \u001b[1m0s\u001b[0m 6ms/step - accuracy: 0.8347 - loss: 0.3930 "
     ]
    },
    {
     "name": "stderr",
     "output_type": "stream",
     "text": [
      "WARNING:absl:You are saving your model as an HDF5 file via `model.save()` or `keras.saving.save_model(model)`. This file format is considered legacy. We recommend using instead the native Keras format, e.g. `model.save('my_model.keras')` or `keras.saving.save_model(model, 'my_model.keras')`. \n"
     ]
    },
    {
     "name": "stdout",
     "output_type": "stream",
     "text": [
      "\u001b[1m14/14\u001b[0m \u001b[32m━━━━━━━━━━━━━━━━━━━━\u001b[0m\u001b[37m\u001b[0m \u001b[1m0s\u001b[0m 28ms/step - accuracy: 0.8295 - loss: 0.3864 - val_accuracy: 0.8132 - val_loss: 0.3935\n",
      "Epoch 3/50\n",
      "\u001b[1m14/14\u001b[0m \u001b[32m━━━━━━━━━━━━━━━━━━━━\u001b[0m\u001b[37m\u001b[0m \u001b[1m0s\u001b[0m 8ms/step - accuracy: 0.8456 - loss: 0.3379"
     ]
    },
    {
     "name": "stderr",
     "output_type": "stream",
     "text": [
      "WARNING:absl:You are saving your model as an HDF5 file via `model.save()` or `keras.saving.save_model(model)`. This file format is considered legacy. We recommend using instead the native Keras format, e.g. `model.save('my_model.keras')` or `keras.saving.save_model(model, 'my_model.keras')`. \n"
     ]
    },
    {
     "name": "stdout",
     "output_type": "stream",
     "text": [
      "\u001b[1m14/14\u001b[0m \u001b[32m━━━━━━━━━━━━━━━━━━━━\u001b[0m\u001b[37m\u001b[0m \u001b[1m0s\u001b[0m 31ms/step - accuracy: 0.8451 - loss: 0.3367 - val_accuracy: 0.8242 - val_loss: 0.3932\n",
      "Epoch 4/50\n",
      "\u001b[1m14/14\u001b[0m \u001b[32m━━━━━━━━━━━━━━━━━━━━\u001b[0m\u001b[37m\u001b[0m \u001b[1m0s\u001b[0m 17ms/step - accuracy: 0.8671 - loss: 0.2664 - val_accuracy: 0.8132 - val_loss: 0.4011\n",
      "Epoch 5/50\n",
      "\u001b[1m 9/14\u001b[0m \u001b[32m━━━━━━━━━━━━\u001b[0m\u001b[37m━━━━━━━━\u001b[0m \u001b[1m0s\u001b[0m 6ms/step - accuracy: 0.8970 - loss: 0.2192 "
     ]
    },
    {
     "name": "stderr",
     "output_type": "stream",
     "text": [
      "WARNING:absl:You are saving your model as an HDF5 file via `model.save()` or `keras.saving.save_model(model)`. This file format is considered legacy. We recommend using instead the native Keras format, e.g. `model.save('my_model.keras')` or `keras.saving.save_model(model, 'my_model.keras')`. \n"
     ]
    },
    {
     "name": "stdout",
     "output_type": "stream",
     "text": [
      "\u001b[1m14/14\u001b[0m \u001b[32m━━━━━━━━━━━━━━━━━━━━\u001b[0m\u001b[37m\u001b[0m \u001b[1m0s\u001b[0m 25ms/step - accuracy: 0.8853 - loss: 0.2360 - val_accuracy: 0.8571 - val_loss: 0.3702\n",
      "Epoch 6/50\n",
      "\u001b[1m10/14\u001b[0m \u001b[32m━━━━━━━━━━━━━━\u001b[0m\u001b[37m━━━━━━\u001b[0m \u001b[1m0s\u001b[0m 6ms/step - accuracy: 0.9222 - loss: 0.2005 "
     ]
    },
    {
     "name": "stderr",
     "output_type": "stream",
     "text": [
      "WARNING:absl:You are saving your model as an HDF5 file via `model.save()` or `keras.saving.save_model(model)`. This file format is considered legacy. We recommend using instead the native Keras format, e.g. `model.save('my_model.keras')` or `keras.saving.save_model(model, 'my_model.keras')`. \n"
     ]
    },
    {
     "name": "stdout",
     "output_type": "stream",
     "text": [
      "\u001b[1m14/14\u001b[0m \u001b[32m━━━━━━━━━━━━━━━━━━━━\u001b[0m\u001b[37m\u001b[0m \u001b[1m0s\u001b[0m 25ms/step - accuracy: 0.9069 - loss: 0.2186 - val_accuracy: 0.8791 - val_loss: 0.3202\n",
      "Epoch 7/50\n",
      "\u001b[1m14/14\u001b[0m \u001b[32m━━━━━━━━━━━━━━━━━━━━\u001b[0m\u001b[37m\u001b[0m \u001b[1m0s\u001b[0m 13ms/step - accuracy: 0.8739 - loss: 0.2504 - val_accuracy: 0.8901 - val_loss: 0.3221\n",
      "Epoch 8/50\n",
      "\u001b[1m14/14\u001b[0m \u001b[32m━━━━━━━━━━━━━━━━━━━━\u001b[0m\u001b[37m\u001b[0m \u001b[1m0s\u001b[0m 13ms/step - accuracy: 0.9089 - loss: 0.2172 - val_accuracy: 0.8571 - val_loss: 0.3590\n",
      "Epoch 9/50\n",
      "\u001b[1m14/14\u001b[0m \u001b[32m━━━━━━━━━━━━━━━━━━━━\u001b[0m\u001b[37m\u001b[0m \u001b[1m0s\u001b[0m 17ms/step - accuracy: 0.9178 - loss: 0.2109 - val_accuracy: 0.8462 - val_loss: 0.3813\n",
      "Epoch 10/50\n",
      "\u001b[1m14/14\u001b[0m \u001b[32m━━━━━━━━━━━━━━━━━━━━\u001b[0m\u001b[37m\u001b[0m \u001b[1m0s\u001b[0m 17ms/step - accuracy: 0.9114 - loss: 0.2056 - val_accuracy: 0.9011 - val_loss: 0.3245\n",
      "Epoch 11/50\n",
      "\u001b[1m14/14\u001b[0m \u001b[32m━━━━━━━━━━━━━━━━━━━━\u001b[0m\u001b[37m\u001b[0m \u001b[1m0s\u001b[0m 13ms/step - accuracy: 0.9333 - loss: 0.1676 - val_accuracy: 0.8901 - val_loss: 0.3231\n"
     ]
    }
   ],
   "source": [
    "import pandas as pd\n",
    "import numpy as np\n",
    "from sklearn.preprocessing import StandardScaler\n",
    "from sklearn.utils import class_weight\n",
    "from tensorflow.keras.models import Sequential\n",
    "from tensorflow.keras.layers import Conv1D, MaxPooling1D, Flatten, Dense, Dropout\n",
    "from tensorflow.keras.callbacks import EarlyStopping, ModelCheckpoint\n",
    "from tensorflow.keras.optimizers import Adam\n",
    "from tensorflow.keras import Input, Model\n",
    "\n",
    "# Load Data\n",
    "train_df = pd.read_csv(\"dataset/train_data_70.csv\")\n",
    "val_df = pd.read_csv(\"dataset/val_data_15.csv\")\n",
    "test_df = pd.read_csv(\"dataset/test_data_15.csv\")\n",
    "\n",
    "X_train = train_df.drop(\"DEPRESSED\", axis=1).values\n",
    "y_train = train_df[\"DEPRESSED\"].values\n",
    "X_val = val_df.drop(\"DEPRESSED\", axis=1).values\n",
    "y_val = val_df[\"DEPRESSED\"].values\n",
    "\n",
    "# Scale\n",
    "scaler = StandardScaler()\n",
    "X_train_scaled = scaler.fit_transform(X_train)\n",
    "X_val_scaled = scaler.transform(X_val)\n",
    "\n",
    "X_train_scaled = X_train_scaled.reshape(-1, 30, 1)\n",
    "X_val_scaled = X_val_scaled.reshape(-1, 30, 1)\n",
    "\n",
    "# Class weight\n",
    "class_weights = class_weight.compute_class_weight(\n",
    "    class_weight='balanced',\n",
    "    classes=np.unique(y_train),\n",
    "    y=y_train\n",
    ")\n",
    "class_weights = dict(enumerate(class_weights))\n",
    "\n",
    "inputs = Input(shape=(30, 1))  # ✅ wajib eksplisit\n",
    "x = Conv1D(64, 3, activation='relu')(inputs)\n",
    "x = MaxPooling1D(2)(x)\n",
    "x = Conv1D(128, 3, activation='relu')(x)\n",
    "x = MaxPooling1D(2)(x)\n",
    "x = Dropout(0.2)(x)\n",
    "x = Flatten()(x)\n",
    "x = Dense(64, activation='relu')(x)\n",
    "outputs = Dense(1, activation='sigmoid')(x)\n",
    "\n",
    "model = Model(inputs=inputs, outputs=outputs)\n",
    "model.compile(optimizer='adam', loss='binary_crossentropy', metrics=['accuracy'])\n",
    "\n",
    "\n",
    "callbacks = [\n",
    "    EarlyStopping(monitor='val_loss', patience=5, restore_best_weights=True),\n",
    "    ModelCheckpoint(\"model_final_stable.h5\", save_best_only=True)\n",
    "]\n",
    "\n",
    "history = model.fit(\n",
    "    X_train_scaled, y_train,\n",
    "    validation_data=(X_val_scaled, y_val),\n",
    "    epochs=50,\n",
    "    batch_size=32,\n",
    "    class_weight=class_weights,\n",
    "    callbacks=callbacks,\n",
    "    verbose=1\n",
    ")\n"
   ]
  },
  {
   "cell_type": "code",
   "execution_count": 48,
   "id": "28e7a568",
   "metadata": {},
   "outputs": [
    {
     "name": "stdout",
     "output_type": "stream",
     "text": [
      "\u001b[1m3/3\u001b[0m \u001b[32m━━━━━━━━━━━━━━━━━━━━\u001b[0m\u001b[37m\u001b[0m \u001b[1m0s\u001b[0m 16ms/step - accuracy: 0.8840 - loss: 0.2755\n",
      "\n",
      "✅ Test Accuracy: 0.8462\n",
      "📊 Jumlah data latih per kelas: [143 279]\n",
      "\u001b[1m3/3\u001b[0m \u001b[32m━━━━━━━━━━━━━━━━━━━━\u001b[0m\u001b[37m\u001b[0m \u001b[1m0s\u001b[0m 14ms/step\n"
     ]
    },
    {
     "name": "stderr",
     "output_type": "stream",
     "text": [
      "WARNING:absl:You are saving your model as an HDF5 file via `model.save()` or `keras.saving.save_model(model)`. This file format is considered legacy. We recommend using instead the native Keras format, e.g. `model.save('my_model.keras')` or `keras.saving.save_model(model, 'my_model.keras')`. \n"
     ]
    },
    {
     "name": "stdout",
     "output_type": "stream",
     "text": [
      "\n",
      "📋 Classification Report:\n",
      "              precision    recall  f1-score   support\n",
      "\n",
      "           0       0.76      0.81      0.79        32\n",
      "           1       0.89      0.86      0.88        59\n",
      "\n",
      "    accuracy                           0.85        91\n",
      "   macro avg       0.83      0.84      0.83        91\n",
      "weighted avg       0.85      0.85      0.85        91\n",
      "\n",
      "🧾 Confusion Matrix:\n",
      "[[26  6]\n",
      " [ 8 51]]\n",
      "🎯 F1 Score (threshold=0.5): 0.8793\n",
      "✅ Model dan scaler disimpan.\n"
     ]
    },
    {
     "data": {
      "image/png": "[encoded data removed]",
      "text/plain": [
       "<Figure size 1200x400 with 2 Axes>"
      ]
     },
     "metadata": {},
     "output_type": "display_data"
    }
   ],
   "source": [
    "from sklearn.metrics import classification_report, confusion_matrix, f1_score\n",
    "import matplotlib.pyplot as plt\n",
    "import joblib\n",
    "\n",
    "# --- Preprocess Test Data ---\n",
    "X_test = test_df.drop(\"DEPRESSED\", axis=1).values\n",
    "y_test = test_df[\"DEPRESSED\"].values\n",
    "\n",
    "X_test_scaled = scaler.transform(X_test)\n",
    "X_test_scaled = X_test_scaled.reshape(X_test_scaled.shape[0], X_test_scaled.shape[1], 1)\n",
    "\n",
    "# --- Evaluasi Model di Test Set ---\n",
    "loss, acc = model.evaluate(X_test_scaled, y_test)\n",
    "print(f\"\\n✅ Test Accuracy: {acc:.4f}\")\n",
    "print(f\"📊 Jumlah data latih per kelas: {np.bincount(y_train)}\")\n",
    "\n",
    "# --- Prediksi ---\n",
    "y_pred_prob = model.predict(X_test_scaled).flatten()\n",
    "threshold = 0.5  # Bisa diubah ke 0.55, 0.6, dll\n",
    "y_pred_labels = (y_pred_prob > threshold).astype(int)\n",
    "\n",
    "# --- Evaluasi Klasifikasi ---\n",
    "print(\"\\n📋 Classification Report:\")\n",
    "print(classification_report(y_test, y_pred_labels))\n",
    "\n",
    "print(\"🧾 Confusion Matrix:\")\n",
    "print(confusion_matrix(y_test, y_pred_labels))\n",
    "\n",
    "print(f\"🎯 F1 Score (threshold={threshold}): {f1_score(y_test, y_pred_labels):.4f}\")\n",
    "\n",
    "# --- Simpan Model dan Scaler ---\n",
    "model.save(\"model_fixed.h5\")\n",
    "joblib.dump(scaler, 'scaler.pkl')\n",
    "print(\"✅ Model dan scaler disimpan.\")\n",
    "\n",
    "# --- Visualisasi Akurasi & Loss ---\n",
    "plt.figure(figsize=(12, 4))\n",
    "\n",
    "plt.subplot(1, 2, 1)\n",
    "plt.plot(history.history['accuracy'], label='Train')\n",
    "plt.plot(history.history['val_accuracy'], label='Validation')\n",
    "plt.title('Accuracy per Epoch')\n",
    "plt.xlabel('Epoch')\n",
    "plt.ylabel('Accuracy')\n",
    "plt.legend()\n",
    "\n",
    "plt.subplot(1, 2, 2)\n",
    "plt.plot(history.history['loss'], label='Train')\n",
    "plt.plot(history.history['val_loss'], label='Validation')\n",
    "plt.title('Loss per Epoch')\n",
    "plt.xlabel('Epoch')\n",
    "plt.ylabel('Loss')\n",
    "plt.legend()\n",
    "\n",
    "plt.tight_layout()\n",
    "plt.show()\n"
   ]
  }
 ],
 "metadata": {
  "kernelspec": {
   "display_name": "Python 3",
   "language": "python",
   "name": "python3"
  },
  "language_info": {
   "codemirror_mode": {
    "name": "ipython",
    "version": 3
   },
   "file_extension": ".py",
   "mimetype": "text/x-python",
   "name": "python",
   "nbconvert_exporter": "python",
   "pygments_lexer": "ipython3",
   "version": "3.12.2"
  }
 },
 "nbformat": 4,
 "nbformat_minor": 5
}
